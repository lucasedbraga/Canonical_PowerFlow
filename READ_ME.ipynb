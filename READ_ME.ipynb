{
 "cells": [
  {
   "cell_type": "markdown",
   "metadata": {},
   "source": [
    "# Manual de Configuração do Windows para Otimização\n",
    "\n",
    "## Instalação de dependencias\n",
    "\n",
    "* conda install requirements.txt\n",
    "\n",
    "## Instalação dos Solvers e \n",
    "\n",
    "### Usando Anaconda (Linux/Windows - Indicado!)\n",
    "\n",
    "* INSTALAR ANACONDA3\n",
    "\n",
    "#### GLPK (LP)\n",
    "* conda install -c conda-forge ipopt\n",
    "\n",
    "#### IPOPT (NLP)\n",
    "* conda install -c conda-forge glpk\n",
    "\n",
    "### Usando as configuração de variáveis de Ambiente (Windows)\n",
    "\n",
    "#### GLPK (LP)\n",
    "* link: https://sourceforge.net/projects/winglpk/files/latest/download\n",
    "* Problemas Lineares\n",
    "* Fazer o download, extrair o zip e jogar para unidade C: e adicionar as variavies de ambiente\n",
    "-> Meu computador -> Propriedades -> Configurações avançadas do sistema -> Variaveis de Ambiente -> Path -> adicionando caminho da pasta do glpk/w64\n",
    "\n",
    "#### IPOPT (NLP)\n",
    "* link: https://www.coin-or.org/download/binary/Ipopt/\n",
    "* Metodo dos pontos interiores\n",
    "* Fazer o download, extrair o zip e jogar para unidade C: e adicionar as variavies de ambiente\n",
    "-> Meu computador -> Propriedades -> Configurações avançadas do sistema -> Variaveis de Ambiente -> Path -> adicionando caminho da pasta do ipopt/bin\n",
    "\n",
    "\n"
   ]
  }
 ],
 "metadata": {
  "kernelspec": {
   "display_name": "Python 3.10.4 ('otm_venv')",
   "language": "python",
   "name": "python3"
  },
  "language_info": {
   "name": "python",
   "version": "3.10.4"
  },
  "orig_nbformat": 4,
  "vscode": {
   "interpreter": {
    "hash": "848576b17ecf2ed6fc55190c4d34dfb36de6ddd75f8289b77f02bb28308406d3"
   }
  }
 },
 "nbformat": 4,
 "nbformat_minor": 2
}
