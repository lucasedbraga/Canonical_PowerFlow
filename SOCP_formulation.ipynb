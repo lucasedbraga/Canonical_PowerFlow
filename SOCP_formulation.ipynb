{
 "cells": [
  {
   "cell_type": "markdown",
   "metadata": {},
   "source": [
    "# Estudo SOCP"
   ]
  },
  {
   "cell_type": "markdown",
   "metadata": {},
   "source": [
    "## Formulação Fluxo de Potência\n",
    "\n",
    "\\begin{equation*}\n",
    "P_{ger_{i}} - P_{demanda_{i}} = \\sum{M_{F}(i,l)P_{barra_{i}}} + \\sum{M_{L}(i,l)P_{perdas_{i}}}\n",
    "\\end{equation*}\n",
    "\n",
    "\\begin{equation*}\n",
    "Q_{ger_{i}} - Q_{demanda_{i}} = \\sum{M_{F}(i,l)Q_{barra_{i}}} + \\sum{M_{L}(i,l)Q_{perdas_{i}}} - B_{i}V_{i}^{2}\n",
    "\\end{equation*}\n",
    "\n",
    "\\begin{equation*}\n",
    "P_{perda_{i}} = \\dfrac{P_{recebido_{i}}^2 + Q_{recebido_{i}}^2}{V_{recebido_{i}}^2}*R_{linha_{i}}\n",
    "\\end{equation*}\n",
    "\n",
    "\\begin{equation*}\n",
    "Q_{perda_{i}} = \\dfrac{P_{recebido_{i}}^2 + Q_{recebido_{i}}^2}{V_{recebido_{i}}^2}*X_{linha_{i}}\n",
    "\\end{equation*}\n",
    "\n",
    "\\begin{equation*}\n",
    "V_{enviado_{i}}^2 - V_{recebido_{i}}^2 = 2R_{linha_{i}}*P_{barra_{i}} + 2X_{linha_{i}}*Q_{barra_{i}} + R_{linha_{i}}*P_{perda_{i}}+X_{linha_{i}}*Q_{perda_{i}}\n",
    "\\end{equation*}\n",
    "\n",
    "\\begin{equation*}\n",
    "V_{enviado_{i}}*V_{recebido_{i}}*sen \\theta = X_{linha_{i}}*P_{barra_{i}} - R_{linha_{i}}*Q_{barra_{i}}\n",
    "\\end{equation*}\n",
    "\n",
    "\n",
    "Onde: \n",
    "\n",
    "* $M_{F_{(n_{barras}Xn_{linhas})}}(i,l)$:\n",
    "    * 1 se a barra é o receptor final da linha\n",
    "    * -1 se a barra é o entregador final da linha\n",
    "    * 0 , caso contrario\n",
    "\n",
    "* $M_{L_{(n_{barras}Xn_{linhas})}}(i,l)$:\n",
    "    * 1 se a barra é o entregador final da linha\n",
    "    * 0 , caso contrario\n",
    "\n",
    "* É necessário saber DE e PARA para as barras"
   ]
  },
  {
   "cell_type": "markdown",
   "metadata": {},
   "source": [
    "\n",
    "## Alterações propostas para formulação Conica\n",
    "\n",
    "\n",
    "\\begin{equation*}\n",
    "W = V^2 (\\text{Em todas as equações})\n",
    "\\end{equation*}\n",
    "\n",
    "\\begin{equation*}\n",
    "sen \\theta \\approx    \\theta\n",
    "\\end{equation*}\n",
    "\n",
    "\\begin{equation*}\n",
    "\\theta = X_{linha}*P_{linha} - R_{linha}Q_{linha}\n",
    "\\end{equation*}\n",
    "\n"
   ]
  },
  {
   "cell_type": "markdown",
   "metadata": {},
   "source": [
    "## Fluxo de Potência Canonico\n",
    "\n",
    "\\begin{equation*}\n",
    "min: \\sum{\\~P_{perdas}}\n",
    "\\end{equation*}\n",
    "\n",
    "Sujeito a:\n",
    "\n",
    "\\begin{equation*}\n",
    "P_{ger} - P_{demanda} - \\sum{P_{barra}} - \\sum{P_{perdas}} = 0\n",
    "\\end{equation*}\n",
    "\n",
    "\\begin{equation*}\n",
    "Q_{ger} - Q_{demanda} - \\sum{Q_{barra}} - \\sum{Q_{perdas}} - BW = 0\n",
    "\\end{equation*}\n",
    "\n",
    "\\begin{equation*}\n",
    "2R_{linha}P_{barra} + 2X_{linha}Q_{barra} + R_{linha}*P_{perdas} + X_{linha}*Q_{perdas} - M_{F}^T W = 0\n",
    "\\end{equation*}\n",
    "\n",
    "\\begin{equation*}\n",
    "CX_{linha}P_{barra} - CR_{linha}Q_{barra} = 0\n",
    "\\end{equation*}\n",
    "\n",
    "\\begin{equation*}\n",
    "P_{perdas} = 2R\\~P_{perdas}\n",
    "\\end{equation*}\n",
    "\n",
    "\\begin{equation*}\n",
    "XP_{perdas} - 2RQ_{perdas} = 0\n",
    "\\end{equation*}\n",
    "\n",
    "\\begin{equation*}\n",
    "2\\~P_{perdas}W_{barra} \\geq P^2+Q^2\n",
    "\\end{equation*}\n",
    "\n",
    "Onde: \n",
    "\n",
    "* n_{c} = n_{linhas} - n_{barras} + 1\n",
    "* $C_{(n_{c}Xn_{linhas})}(c,l)$: Matriz de incidencia\n",
    "    * 1 se a linha l no loop possui mesma direção\n",
    "    * -1 se a linha l no loop está na direção contrária\n",
    "    * 0 , caso contrario\n",
    "* $M_{F}^T$: é a matriz transposta de $M_{F}$\n",
    "\n",
    "A minimização da função objetivo força a ultima restrição se aproximar da solução ótima. "
   ]
  },
  {
   "cell_type": "markdown",
   "metadata": {},
   "source": [
    "### Resolução do problema\n",
    "\n",
    "* Utiliza método dos pontos interiores -> Solucionador IPOT\n",
    "* Maior sistema testado é de 57 barras\n",
    "* Problema não convexo  -> Transforma em conico -> Problema Convexo\n",
    "* Obtem um Ponto ótimo Global\n",
    "* "
   ]
  },
  {
   "cell_type": "markdown",
   "metadata": {},
   "source": []
  },
  {
   "cell_type": "markdown",
   "metadata": {},
   "source": []
  }
 ],
 "metadata": {
  "kernelspec": {
   "display_name": "Python 3.10.4 ('otm_venv')",
   "language": "python",
   "name": "python3"
  },
  "language_info": {
   "name": "python",
   "version": "3.10.4"
  },
  "orig_nbformat": 4,
  "vscode": {
   "interpreter": {
    "hash": "728b7c78fb624796da1047f6fb2353e3a0be7d051de82d5f39801822eedb78b7"
   }
  }
 },
 "nbformat": 4,
 "nbformat_minor": 2
}
