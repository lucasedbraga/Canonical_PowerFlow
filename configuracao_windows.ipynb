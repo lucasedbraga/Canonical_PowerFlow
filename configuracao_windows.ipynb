{
 "cells": [
  {
   "cell_type": "markdown",
   "metadata": {},
   "source": [
    "# Manual de Configuração do Windows para Otimização"
   ]
  },
  {
   "cell_type": "markdown",
   "metadata": {},
   "source": [
    "## Instalação do pyomo\n",
    "\n",
    "* 'pip install pyomo'\n",
    "\n",
    "## Instalação dos Solvers e Configuração Variáveis de Ambiente\n"
   ]
  },
  {
   "cell_type": "markdown",
   "metadata": {},
   "source": [
    "### GLPK (LP)\n",
    "* link: https://sourceforge.net/projects/winglpk/files/latest/download\n",
    "* Problemas Lineares\n",
    "* Fazer o download, extrair o zip e jogar para unidade C: e adicionar as variavies de ambiente\n",
    "-> Meu computador -> Propriedades -> Configurações avançadas do sistema -> Variaveis de Ambiente -> Path -> adicionando caminho da pasta do glpk/w64\n"
   ]
  },
  {
   "cell_type": "code",
   "execution_count": 1,
   "metadata": {},
   "outputs": [
    {
     "name": "stdout",
     "output_type": "stream",
     "text": [
      "2 Var Declarations\n",
      "    x : Size=1, Index=None\n",
      "        Key  : Lower : Value : Upper : Fixed : Stale : Domain\n",
      "        None :     0 :   4.0 :    10 : False : False :  Reals\n",
      "    y : Size=1, Index=None\n",
      "        Key  : Lower : Value : Upper : Fixed : Stale : Domain\n",
      "        None :     0 :   6.0 :    10 : False : False :  Reals\n",
      "\n",
      "1 Objective Declarations\n",
      "    obj : Size=1, Index=None, Active=True\n",
      "        Key  : Active : Sense    : Expression\n",
      "        None :   True : minimize : - (x + y)\n",
      "\n",
      "3 Constraint Declarations\n",
      "    C1 : Size=1, Index=None, Active=True\n",
      "        Key  : Lower : Body      : Upper : Active\n",
      "        None :  -Inf : - x + 2*y :   8.0 :   True\n",
      "    C2 : Size=1, Index=None, Active=True\n",
      "        Key  : Lower : Body    : Upper : Active\n",
      "        None :  -Inf : 2*x + y :  14.0 :   True\n",
      "    C3 : Size=1, Index=None, Active=True\n",
      "        Key  : Lower : Body    : Upper : Active\n",
      "        None :  -Inf : 2*x - y :  10.0 :   True\n",
      "\n",
      "6 Declarations: x y C1 C2 C3 obj\n",
      " Valor de X = 4.0 \n",
      " Valor de Y = 6.0 \n"
     ]
    }
   ],
   "source": [
    "# TESTE GLPK\n",
    "\n",
    "import pyomo.environ as pyo\n",
    "from pyomo.environ import *\n",
    "from pyomo.opt import SolverFactory\n",
    "\n",
    "model = pyo.ConcreteModel()\n",
    "\n",
    "model.x = pyo.Var(bounds=(0,10))\n",
    "model.y = pyo.Var(bounds=(0,10))\n",
    "x = model.x\n",
    "y = model.y\n",
    "\n",
    "model.C1 = pyo.Constraint(expr= -x+2*y <= 8)\n",
    "model.C2 = pyo.Constraint(expr= 2*x + y <= 14)\n",
    "model.C3 = pyo.Constraint(expr= 2*x - y <= 10)\n",
    "\n",
    "model.obj = pyo.Objective(expr= -(x+y))\n",
    "\n",
    "opt = SolverFactory('glpk').solve(model)\n",
    "model.pprint()\n",
    "\n",
    "x_value = pyo.value(x)\n",
    "y_value = pyo.value(y)\n",
    "\n",
    "print(f' Valor de X = {x_value} \\n'\n",
    "      f' Valor de Y = {y_value} ')"
   ]
  },
  {
   "cell_type": "markdown",
   "metadata": {},
   "source": [
    "### IPOPT (NLP)\n",
    "* Metodo dos pontos interiores\n",
    "* Fazer o download, extrair o zip e jogar para unidade C: e adicionar as variavies de ambiente\n",
    "-> Meu computador -> Propriedades -> Configurações avançadas do sistema -> Variaveis de Ambiente -> Path -> adicionando caminho da pasta do ipopt/bin\n"
   ]
  },
  {
   "cell_type": "code",
   "execution_count": 2,
   "metadata": {},
   "outputs": [
    {
     "name": "stdout",
     "output_type": "stream",
     "text": [
      "2 Var Declarations\n",
      "    x : Size=1, Index=None\n",
      "        Key  : Lower : Value            : Upper : Fixed : Stale : Domain\n",
      "        None :     0 : 5.60671515563677 :    10 : False : False :  Reals\n",
      "    y : Size=1, Index=None\n",
      "        Key  : Lower : Value             : Upper : Fixed : Stale : Domain\n",
      "        None :     0 : 1.213430221896181 :    10 : False : False :  Reals\n",
      "\n",
      "1 Objective Declarations\n",
      "    obj : Size=1, Index=None, Active=True\n",
      "        Key  : Active : Sense    : Expression\n",
      "        None :   True : minimize : - x*y\n",
      "\n",
      "3 Constraint Declarations\n",
      "    C1 : Size=1, Index=None, Active=True\n",
      "        Key  : Lower : Body        : Upper : Active\n",
      "        None :  -Inf : - x + 2*y*x :   8.0 :   True\n",
      "    C2 : Size=1, Index=None, Active=True\n",
      "        Key  : Lower : Body    : Upper : Active\n",
      "        None :  -Inf : 2*x + y :  14.0 :   True\n",
      "    C3 : Size=1, Index=None, Active=True\n",
      "        Key  : Lower : Body    : Upper : Active\n",
      "        None :  -Inf : 2*x - y :  10.0 :   True\n",
      "\n",
      "6 Declarations: x y C1 C2 C3 obj\n",
      " Valor de X = 5.60671515563677 \n",
      " Valor de Y = 1.213430221896181 \n"
     ]
    }
   ],
   "source": [
    "# TESTE IPOPT\n",
    "\n",
    "import pyomo.environ as pyo\n",
    "from pyomo.environ import *\n",
    "from pyomo.opt import SolverFactory\n",
    "\n",
    "model = pyo.ConcreteModel()\n",
    "\n",
    "model.x = pyo.Var(bounds=(0,10))\n",
    "model.y = pyo.Var(bounds=(0,10))\n",
    "x = model.x\n",
    "y = model.y\n",
    "\n",
    "model.C1 = pyo.Constraint(expr= -x+2*y*x <= 8)\n",
    "model.C2 = pyo.Constraint(expr= 2*x + y <= 14)\n",
    "model.C3 = pyo.Constraint(expr= 2*x - y <= 10)\n",
    "\n",
    "model.obj = pyo.Objective(expr= -(x*y))\n",
    "\n",
    "opt = SolverFactory('ipopt', executable='C:\\\\Ipopt\\\\bin\\\\Ipopt.exe').solve(model)\n",
    "model.pprint()\n",
    "\n",
    "x_value = pyo.value(x)\n",
    "y_value = pyo.value(y)\n",
    "\n",
    "print(f' Valor de X = {x_value} \\n'\n",
    "      f' Valor de Y = {y_value} ')"
   ]
  },
  {
   "cell_type": "markdown",
   "metadata": {},
   "source": [
    "### Decomposição (MINLP)\n",
    "\n"
   ]
  },
  {
   "cell_type": "code",
   "execution_count": 3,
   "metadata": {},
   "outputs": [
    {
     "name": "stdout",
     "output_type": "stream",
     "text": [
      "WARNING: DEPRECATED: The 'ignore_integrality' argument no longer has any\n",
      "    functionality.  (deprecated in 6.4.2) (called from\n",
      "    c:\\Users\\Lucas\\.conda\\envs\\otm_venv\\lib\\site-\n",
      "    packages\\pyomo\\contrib\\mindtpy\\initialization.py:155)\n",
      "2 Var Declarations\n",
      "    x : Size=1, Index=None\n",
      "        Key  : Lower : Value : Upper : Fixed : Stale : Domain\n",
      "        None :     0 :   5.0 :    10 : False : False : Integers\n",
      "    y : Size=1, Index=None\n",
      "        Key  : Lower : Value             : Upper : Fixed : Stale : Domain\n",
      "        None :     0 : 1.300000012498684 :    10 : False : False :  Reals\n",
      "\n",
      "1 Objective Declarations\n",
      "    obj : Size=1, Index=None, Active=True\n",
      "        Key  : Active : Sense    : Expression\n",
      "        None :   True : minimize : - x*y\n",
      "\n",
      "3 Constraint Declarations\n",
      "    C1 : Size=1, Index=None, Active=True\n",
      "        Key  : Lower : Body        : Upper : Active\n",
      "        None :  -Inf : - x + 2*y*x :   8.0 :   True\n",
      "    C2 : Size=1, Index=None, Active=True\n",
      "        Key  : Lower : Body    : Upper : Active\n",
      "        None :  -Inf : 2*x + y :  14.0 :   True\n",
      "    C3 : Size=1, Index=None, Active=True\n",
      "        Key  : Lower : Body    : Upper : Active\n",
      "        None :  -Inf : 2*x - y :  10.0 :   True\n",
      "\n",
      "6 Declarations: x y C1 C2 C3 obj\n",
      " Valor de X = 5.0 \n",
      " Valor de Y = 1.300000012498684 \n"
     ]
    }
   ],
   "source": [
    "# TESTE IPOPT\n",
    "\n",
    "import pyomo.environ as pyo\n",
    "from pyomo.environ import *\n",
    "from pyomo.opt import SolverFactory\n",
    "\n",
    "model = pyo.ConcreteModel()\n",
    "\n",
    "model.x = pyo.Var(within=Integers, bounds=(0,10))\n",
    "model.y = pyo.Var(bounds=(0,10))\n",
    "x = model.x\n",
    "y = model.y\n",
    "\n",
    "model.C1 = pyo.Constraint(expr= -x+2*y*x <= 8)\n",
    "model.C2 = pyo.Constraint(expr= 2*x + y <= 14)\n",
    "model.C3 = pyo.Constraint(expr= 2*x - y <= 10)\n",
    "\n",
    "model.obj = pyo.Objective(expr= -(x*y))\n",
    "\n",
    "opt = SolverFactory('mindtpy')\n",
    "opt.solve(model,mip_solver='glpk', nlp_solver='ipopt')\n",
    "model.pprint()\n",
    "\n",
    "x_value = pyo.value(x)\n",
    "y_value = pyo.value(y)\n",
    "\n",
    "print(f' Valor de X = {x_value} \\n'\n",
    "      f' Valor de Y = {y_value} ')"
   ]
  }
 ],
 "metadata": {
  "kernelspec": {
   "display_name": "Python 3.10.4 ('otm_venv')",
   "language": "python",
   "name": "python3"
  },
  "language_info": {
   "codemirror_mode": {
    "name": "ipython",
    "version": 3
   },
   "file_extension": ".py",
   "mimetype": "text/x-python",
   "name": "python",
   "nbconvert_exporter": "python",
   "pygments_lexer": "ipython3",
   "version": "3.10.4"
  },
  "orig_nbformat": 4,
  "vscode": {
   "interpreter": {
    "hash": "728b7c78fb624796da1047f6fb2353e3a0be7d051de82d5f39801822eedb78b7"
   }
  }
 },
 "nbformat": 4,
 "nbformat_minor": 2
}
